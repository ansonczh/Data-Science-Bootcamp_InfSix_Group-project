{
 "cells": [
  {
   "cell_type": "code",
   "execution_count": 2,
   "metadata": {
    "id": "JDEjIGbqJQLQ"
   },
   "outputs": [],
   "source": [
    "import pandas as pd\n",
    "import matplotlib.pyplot as plt\n",
    "import seaborn as sns\n",
    "\n",
    "from sklearn.model_selection import train_test_split\n",
    "from sklearn.preprocessing import OneHotEncoder\n",
    "from sklearn.compose import ColumnTransformer\n",
    "from sklearn.pipeline import Pipeline\n",
    "from sklearn.linear_model import LogisticRegression\n",
    "from sklearn.metrics import classification_report, confusion_matrix, ConfusionMatrixDisplay, roc_curve, auc"
   ]
  },
  {
   "cell_type": "markdown",
   "metadata": {
    "id": "18ifR4TFSOUH"
   },
   "source": [
    "# Import data\n",
    "\n"
   ]
  },
  {
   "cell_type": "code",
   "execution_count": 4,
   "metadata": {
    "colab": {
     "base_uri": "https://localhost:8080/",
     "height": 206
    },
    "id": "BqLirYkbJQLT",
    "outputId": "723492d5-20e8-49ed-e64e-ebe54de0b40b"
   },
   "outputs": [
    {
     "data": {
      "text/html": [
       "<div>\n",
       "<style scoped>\n",
       "    .dataframe tbody tr th:only-of-type {\n",
       "        vertical-align: middle;\n",
       "    }\n",
       "\n",
       "    .dataframe tbody tr th {\n",
       "        vertical-align: top;\n",
       "    }\n",
       "\n",
       "    .dataframe thead th {\n",
       "        text-align: right;\n",
       "    }\n",
       "</style>\n",
       "<table border=\"1\" class=\"dataframe\">\n",
       "  <thead>\n",
       "    <tr style=\"text-align: right;\">\n",
       "      <th></th>\n",
       "      <th>Text</th>\n",
       "      <th>Sentiment</th>\n",
       "      <th>Timestamp</th>\n",
       "      <th>Likes</th>\n",
       "      <th>Retweets</th>\n",
       "      <th>Hashtags</th>\n",
       "      <th>Platform</th>\n",
       "      <th>Country</th>\n",
       "    </tr>\n",
       "  </thead>\n",
       "  <tbody>\n",
       "    <tr>\n",
       "      <th>0</th>\n",
       "      <td>Enjoying a beautiful day at the park!        ...</td>\n",
       "      <td>Positive</td>\n",
       "      <td>2023-01-15 12:30:00</td>\n",
       "      <td>30.0</td>\n",
       "      <td>15.0</td>\n",
       "      <td>#Nature #Park</td>\n",
       "      <td>Twitter</td>\n",
       "      <td>USA</td>\n",
       "    </tr>\n",
       "    <tr>\n",
       "      <th>1</th>\n",
       "      <td>Traffic was terrible this morning.           ...</td>\n",
       "      <td>Negative</td>\n",
       "      <td>2023-01-15 08:45:00</td>\n",
       "      <td>10.0</td>\n",
       "      <td>5.0</td>\n",
       "      <td>#Traffic #Morning</td>\n",
       "      <td>Twitter</td>\n",
       "      <td>Canada</td>\n",
       "    </tr>\n",
       "    <tr>\n",
       "      <th>2</th>\n",
       "      <td>Just finished an amazing workout! 💪          ...</td>\n",
       "      <td>Positive</td>\n",
       "      <td>2023-01-15 15:45:00</td>\n",
       "      <td>40.0</td>\n",
       "      <td>20.0</td>\n",
       "      <td>#Fitness #Workout</td>\n",
       "      <td>Instagram</td>\n",
       "      <td>USA</td>\n",
       "    </tr>\n",
       "    <tr>\n",
       "      <th>3</th>\n",
       "      <td>Excited about the upcoming weekend getaway!  ...</td>\n",
       "      <td>Positive</td>\n",
       "      <td>2023-01-15 18:20:00</td>\n",
       "      <td>15.0</td>\n",
       "      <td>8.0</td>\n",
       "      <td>#Travel #Adventure</td>\n",
       "      <td>Facebook</td>\n",
       "      <td>UK</td>\n",
       "    </tr>\n",
       "    <tr>\n",
       "      <th>4</th>\n",
       "      <td>Trying out a new recipe for dinner tonight.  ...</td>\n",
       "      <td>Neutral</td>\n",
       "      <td>2023-01-15 19:55:00</td>\n",
       "      <td>25.0</td>\n",
       "      <td>12.0</td>\n",
       "      <td>#Cooking #Food</td>\n",
       "      <td>Instagram</td>\n",
       "      <td>Australia</td>\n",
       "    </tr>\n",
       "  </tbody>\n",
       "</table>\n",
       "</div>"
      ],
      "text/plain": [
       "                                                Text Sentiment  \\\n",
       "0   Enjoying a beautiful day at the park!        ...  Positive   \n",
       "1   Traffic was terrible this morning.           ...  Negative   \n",
       "2   Just finished an amazing workout! 💪          ...  Positive   \n",
       "3   Excited about the upcoming weekend getaway!  ...  Positive   \n",
       "4   Trying out a new recipe for dinner tonight.  ...   Neutral   \n",
       "\n",
       "             Timestamp  Likes  Retweets            Hashtags   Platform  \\\n",
       "0  2023-01-15 12:30:00   30.0      15.0       #Nature #Park    Twitter   \n",
       "1  2023-01-15 08:45:00   10.0       5.0   #Traffic #Morning    Twitter   \n",
       "2  2023-01-15 15:45:00   40.0      20.0   #Fitness #Workout  Instagram   \n",
       "3  2023-01-15 18:20:00   15.0       8.0  #Travel #Adventure   Facebook   \n",
       "4  2023-01-15 19:55:00   25.0      12.0      #Cooking #Food  Instagram   \n",
       "\n",
       "     Country  \n",
       "0        USA  \n",
       "1     Canada  \n",
       "2        USA  \n",
       "3         UK  \n",
       "4  Australia  "
      ]
     },
     "execution_count": 4,
     "metadata": {},
     "output_type": "execute_result"
    }
   ],
   "source": [
    "df = pd.read_csv(\"data.csv\")\n",
    "cols = ['Text', 'Sentiment', 'Timestamp', 'Likes', 'Retweets', 'Hashtags', 'Platform', 'Country']\n",
    "df.head()"
   ]
  },
  {
   "cell_type": "code",
   "execution_count": 5,
   "metadata": {
    "id": "QPdW0kqzSYaG"
   },
   "outputs": [],
   "source": [
    "df['Timestamp'].dtypes\n",
    "# convert to datetime type\n",
    "df['Timestamp'] = pd.to_datetime(df['Timestamp'], errors='coerce')\n",
    "df['Year'] = df['Timestamp'].dt.year\n",
    "df['Month'] = df['Timestamp'].dt.month\n",
    "df['Day'] = df['Timestamp'].dt.day\n",
    "df['Hour'] = df['Timestamp'].dt.hour\n",
    "df['Text_Length'] = df['Text'].apply(lambda x: len(x))"
   ]
  },
  {
   "cell_type": "code",
   "execution_count": 6,
   "metadata": {
    "colab": {
     "base_uri": "https://localhost:8080/",
     "height": 293
    },
    "id": "jGhes_CyZhMs",
    "outputId": "cc4b7898-2594-4e11-d88c-a2786fd4852d"
   },
   "outputs": [
    {
     "data": {
      "text/html": [
       "<div>\n",
       "<style scoped>\n",
       "    .dataframe tbody tr th:only-of-type {\n",
       "        vertical-align: middle;\n",
       "    }\n",
       "\n",
       "    .dataframe tbody tr th {\n",
       "        vertical-align: top;\n",
       "    }\n",
       "\n",
       "    .dataframe thead th {\n",
       "        text-align: right;\n",
       "    }\n",
       "</style>\n",
       "<table border=\"1\" class=\"dataframe\">\n",
       "  <thead>\n",
       "    <tr style=\"text-align: right;\">\n",
       "      <th></th>\n",
       "      <th>Text</th>\n",
       "      <th>Sentiment</th>\n",
       "      <th>Timestamp</th>\n",
       "      <th>Likes</th>\n",
       "      <th>Retweets</th>\n",
       "      <th>Hashtags</th>\n",
       "      <th>Platform</th>\n",
       "      <th>Country</th>\n",
       "      <th>Year</th>\n",
       "      <th>Month</th>\n",
       "      <th>Day</th>\n",
       "      <th>Hour</th>\n",
       "      <th>Text_Length</th>\n",
       "    </tr>\n",
       "  </thead>\n",
       "  <tbody>\n",
       "    <tr>\n",
       "      <th>0</th>\n",
       "      <td>Revisiting old memories, feeling a sense of e...</td>\n",
       "      <td>Elation</td>\n",
       "      <td>2010-05-15 15:30:00</td>\n",
       "      <td>40.0</td>\n",
       "      <td>20.0</td>\n",
       "      <td>#Elation #Memories</td>\n",
       "      <td>Twitter</td>\n",
       "      <td>Canada</td>\n",
       "      <td>2010</td>\n",
       "      <td>5</td>\n",
       "      <td>15</td>\n",
       "      <td>15</td>\n",
       "      <td>54</td>\n",
       "    </tr>\n",
       "    <tr>\n",
       "      <th>1</th>\n",
       "      <td>Contentment in the simplicity of a quiet Sund...</td>\n",
       "      <td>Contentment</td>\n",
       "      <td>2010-08-15 10:00:00</td>\n",
       "      <td>60.0</td>\n",
       "      <td>30.0</td>\n",
       "      <td>#Contentment #SundayMood</td>\n",
       "      <td>Twitter</td>\n",
       "      <td>Australia</td>\n",
       "      <td>2010</td>\n",
       "      <td>8</td>\n",
       "      <td>15</td>\n",
       "      <td>10</td>\n",
       "      <td>56</td>\n",
       "    </tr>\n",
       "    <tr>\n",
       "      <th>2</th>\n",
       "      <td>Contentment in the embrace of a loved one.   ...</td>\n",
       "      <td>Contentment</td>\n",
       "      <td>2010-11-12 20:20:00</td>\n",
       "      <td>60.0</td>\n",
       "      <td>30.0</td>\n",
       "      <td>#Contentment #Love</td>\n",
       "      <td>Twitter</td>\n",
       "      <td>India</td>\n",
       "      <td>2010</td>\n",
       "      <td>11</td>\n",
       "      <td>12</td>\n",
       "      <td>20</td>\n",
       "      <td>54</td>\n",
       "    </tr>\n",
       "    <tr>\n",
       "      <th>3</th>\n",
       "      <td>Embracing the beauty of nature, a moment of c...</td>\n",
       "      <td>Contentment</td>\n",
       "      <td>2011-06-20 14:45:00</td>\n",
       "      <td>50.0</td>\n",
       "      <td>25.0</td>\n",
       "      <td>#Contentment #Nature</td>\n",
       "      <td>Facebook</td>\n",
       "      <td>India</td>\n",
       "      <td>2011</td>\n",
       "      <td>6</td>\n",
       "      <td>20</td>\n",
       "      <td>14</td>\n",
       "      <td>58</td>\n",
       "    </tr>\n",
       "    <tr>\n",
       "      <th>4</th>\n",
       "      <td>Serenity found in the beauty of a sunset by t...</td>\n",
       "      <td>Serenity</td>\n",
       "      <td>2011-07-22 18:30:00</td>\n",
       "      <td>45.0</td>\n",
       "      <td>22.0</td>\n",
       "      <td>#Serenity #SunsetViews</td>\n",
       "      <td>Instagram</td>\n",
       "      <td>Canada</td>\n",
       "      <td>2011</td>\n",
       "      <td>7</td>\n",
       "      <td>22</td>\n",
       "      <td>18</td>\n",
       "      <td>55</td>\n",
       "    </tr>\n",
       "  </tbody>\n",
       "</table>\n",
       "</div>"
      ],
      "text/plain": [
       "                                                Text    Sentiment  \\\n",
       "0   Revisiting old memories, feeling a sense of e...      Elation   \n",
       "1   Contentment in the simplicity of a quiet Sund...  Contentment   \n",
       "2   Contentment in the embrace of a loved one.   ...  Contentment   \n",
       "3   Embracing the beauty of nature, a moment of c...  Contentment   \n",
       "4   Serenity found in the beauty of a sunset by t...     Serenity   \n",
       "\n",
       "            Timestamp  Likes  Retweets                  Hashtags   Platform  \\\n",
       "0 2010-05-15 15:30:00   40.0      20.0        #Elation #Memories    Twitter   \n",
       "1 2010-08-15 10:00:00   60.0      30.0  #Contentment #SundayMood    Twitter   \n",
       "2 2010-11-12 20:20:00   60.0      30.0        #Contentment #Love    Twitter   \n",
       "3 2011-06-20 14:45:00   50.0      25.0      #Contentment #Nature   Facebook   \n",
       "4 2011-07-22 18:30:00   45.0      22.0    #Serenity #SunsetViews  Instagram   \n",
       "\n",
       "     Country  Year  Month  Day  Hour  Text_Length  \n",
       "0     Canada  2010      5   15    15           54  \n",
       "1  Australia  2010      8   15    10           56  \n",
       "2      India  2010     11   12    20           54  \n",
       "3      India  2011      6   20    14           58  \n",
       "4     Canada  2011      7   22    18           55  "
      ]
     },
     "execution_count": 6,
     "metadata": {},
     "output_type": "execute_result"
    }
   ],
   "source": [
    "df = df.sort_values('Timestamp',ascending=True)\n",
    "df = df.reset_index(drop=True)\n",
    "df.head()"
   ]
  },
  {
   "cell_type": "markdown",
   "metadata": {
    "id": "cbgaZZjeMGmO"
   },
   "source": [
    "## Preprocess\n",
    "Since there are 191 unique sentiment labels, we group them into three broader categories: **positive**, **neutral**, and **negative**, to reduce feature dimensionality."
   ]
  },
  {
   "cell_type": "code",
   "execution_count": 8,
   "metadata": {
    "cellView": "form",
    "colab": {
     "base_uri": "https://localhost:8080/"
    },
    "id": "fQG1TNS6L5G0",
    "outputId": "b19220d2-d678-4018-cb3d-d1d9dc5763b6"
   },
   "outputs": [
    {
     "name": "stdout",
     "output_type": "stream",
     "text": [
      "Number of unique sentiments: 191\n"
     ]
    }
   ],
   "source": [
    "print(f\"Number of unique sentiments: {len(df['Sentiment'].unique())}\")"
   ]
  },
  {
   "cell_type": "code",
   "execution_count": 9,
   "metadata": {
    "colab": {
     "base_uri": "https://localhost:8080/"
    },
    "id": "4qeSVo3BW7qc",
    "outputId": "e7f64b5a-2c7f-42c9-f6b4-ef77773c356d"
   },
   "outputs": [
    {
     "data": {
      "text/plain": [
       "array(['Elation', 'Contentment', 'Serenity', 'Fulfillment', 'Gratitude',\n",
       "       'Hope', 'Empowerment', 'Miscalculation', 'Grief', 'Suspense',\n",
       "       'Compassion', 'Marvel', 'ArtisticBurst', 'Creativity',\n",
       "       'Determination', 'Curiosity', 'Happy', 'Runway Creativity',\n",
       "       'Satisfaction', 'Bitterness', 'Envisioning History', 'Tenderness',\n",
       "       'Whimsy', 'Despair', 'Awe', 'Pride', 'Connection', 'Solitude',\n",
       "       'Loneliness', 'Disgust', 'Contemplation', 'Darkness', 'Pressure',\n",
       "       'Harmony', 'Positivity', 'Celestial Wonder', 'Boredom',\n",
       "       'Appreciation', 'Inspiration', 'LostLove', 'Exploration',\n",
       "       'Nostalgia', 'Betrayal', 'Resentment', 'Frustration', 'Melancholy',\n",
       "       'Envy', 'Joy', 'Thrilling Journey', 'Regret', 'Arousal',\n",
       "       'Obstacle', 'Wonderment', 'EmotionalStorm', 'Heartbreak',\n",
       "       'Desolation', 'Captivation', 'InnerJourney', 'Mindfulness',\n",
       "       'Reverence', 'Calmness', 'Success', 'Spark', 'Jealous',\n",
       "       'Empathetic', 'Happiness', 'Enthusiasm', 'Dismissive',\n",
       "       'Reflection', 'Sorrow', 'Grandeur', 'Jealousy', 'Dazzle',\n",
       "       'Elegance', 'Mesmerizing', 'Wonder', 'Zest', 'Playful',\n",
       "       'Friendship', 'Anxiety', 'Excitement', 'Euphoria', 'Iconic',\n",
       "       'Adventure', 'Renewed Effort', 'CulinaryOdyssey', 'Vibrancy',\n",
       "       'Thrill', 'Intrigue', 'Melodic', 'Romance', 'Whispers of the Past',\n",
       "       'Desperation', 'Kindness', 'Helplessness', 'Charm', 'Energy',\n",
       "       'Admiration', 'Culinary Adventure', 'Loss', 'Ambivalence',\n",
       "       'Immersion', 'Disappointment', 'Numbness', 'Surprise', 'Inspired',\n",
       "       'Emotion', 'Proud', 'Coziness', 'Overwhelmed', 'Journey',\n",
       "       'Bittersweet', 'Confusion', 'Isolation', 'Confidence',\n",
       "       'Accomplishment', 'Yearning', \"Nature's Beauty\", 'Breakthrough',\n",
       "       'Free-spirited', 'Colorful', 'Engagement', 'Resilience',\n",
       "       'Adrenaline', 'Frustrated', 'JoyfulReunion', 'Heartwarming',\n",
       "       'FestiveJoy', 'PlayfulJoy', 'Confident', 'Touched', 'Envious',\n",
       "       'DreamChaser', 'Freedom', 'Sympathy', 'Enchantment',\n",
       "       'Apprehensive', 'Compassionate', 'Optimism', 'Tranquility',\n",
       "       'Acceptance', \"Ocean's Freedom\", 'Exhaustion', 'Blessed',\n",
       "       'Rejuvenation', 'Imagination', 'Intimidation', 'Overjoyed',\n",
       "       'Ruins', 'Challenge', 'Celebration', 'Motivation', 'Hypnotic',\n",
       "       'Grateful', 'Solace', 'Suffering', 'Hopeful', 'Radiance',\n",
       "       'Fearful', 'Devastated', 'Triumph', 'Heartache', 'Anticipation',\n",
       "       'Amusement', 'Love', 'Indifference', 'Winter Magic', 'Negative',\n",
       "       'Positive', 'Neutral', 'Amazement', 'Anger', 'Fear', 'Sadness',\n",
       "       'Creative Inspiration', 'Enjoyment', 'Affection', 'Disappointed',\n",
       "       'Adoration', 'Bitter', 'Kind', 'Shame', 'Ecstasy', 'Joy in Baking',\n",
       "       'Pensive', 'Relief', 'Embarrassed', 'Mischievous', 'Sad', 'Hate',\n",
       "       'Bad'], dtype=object)"
      ]
     },
     "execution_count": 9,
     "metadata": {},
     "output_type": "execute_result"
    }
   ],
   "source": [
    "df['Sentiment'].unique()"
   ]
  },
  {
   "cell_type": "code",
   "execution_count": 10,
   "metadata": {
    "colab": {
     "base_uri": "https://localhost:8080/"
    },
    "id": "CWu3u6cjNDbp",
    "outputId": "b8636854-ba0b-4463-9985-66b0b41c8609"
   },
   "outputs": [
    {
     "name": "stdout",
     "output_type": "stream",
     "text": [
      "Sentiment_Category\n",
      "Positive    411\n",
      "Negative    165\n",
      "Neutral     156\n",
      "Name: count, dtype: int64\n"
     ]
    }
   ],
   "source": [
    "# sentiment mapping dictionary\n",
    "positive_sentiments = { 'Elation', 'Contentment', 'Serenity', 'Gratitude', 'Hope', 'Empowerment',\n",
    "    'Creativity', 'Determination', 'Curiosity', 'Happy', 'Satisfaction', 'Awe', 'Pride', 'Connection',\n",
    "    'Harmony', 'Positivity', 'Appreciation', 'Inspiration', 'Joy', 'Thrilling Journey', 'Success', 'Spark',\n",
    "    'Enthusiasm', 'Reflection', 'Grandeur', 'Wonder', 'Zest', 'Playful', 'Friendship', 'Excitement',\n",
    "    'Euphoria', 'Adventure', 'Vibrancy', 'Romance', 'Kindness', 'Energy', 'Admiration', 'Happiness',\n",
    "    'Inspired', 'Emotion', 'Proud', 'Coziness', 'Accomplishment', 'Confidence', 'Breakthrough',\n",
    "    'Free-spirited', 'Colorful', 'Engagement', 'Resilience', 'Adrenaline', 'Heartwarming', 'FestiveJoy',\n",
    "    'PlayfulJoy', 'Confident', 'Touched', 'DreamChaser', 'Freedom', 'Sympathy', 'Enchantment',\n",
    "    'Compassionate', 'Optimism', 'Tranquility', 'Acceptance', 'Blessed', 'Rejuvenation', 'Imagination',\n",
    "    'Overjoyed', 'Celebration', 'Motivation', 'Grateful', 'Solace', 'Hopeful', 'Radiance', 'Triumph',\n",
    "    'Love', 'Winter Magic', 'Positive', 'Enjoyment', 'Affection', 'Adoration', 'Kind', 'Creative Inspiration',\n",
    "    'Joy in Baking', 'Relief'\n",
    "}\n",
    "\n",
    "negative_sentiments = {\n",
    "    'Miscalculation', 'Grief', 'Bitterness', 'Despair', 'Solitude', 'Loneliness', 'Disgust', 'Darkness',\n",
    "    'Pressure', 'LostLove', 'Betrayal', 'Resentment', 'Frustration', 'Melancholy', 'Envy', 'Regret',\n",
    "    'Arousal', 'Obstacle', 'EmotionalStorm', 'Heartbreak', 'Desolation', 'Desperation', 'Helplessness',\n",
    "    'Loss', 'Ambivalence', 'Disappointment', 'Numbness', 'Sorrow', 'Anxiety', 'Frustrated', 'Exhaustion',\n",
    "    'Intimidation', 'Fearful', 'Devastated', 'Heartache', 'Sadness', 'Anger', 'Fear', 'Sad', 'Hate', 'Bad',\n",
    "    'Bitter', 'Shame', 'Embarrassed', 'Suffering'\n",
    "}\n",
    "\n",
    "neutral_sentiments = {\n",
    "    'Suspense', 'Compassion', 'Marvel', 'ArtisticBurst', 'Runway Creativity', 'Envisioning History',\n",
    "    'Tenderness', 'Whimsy', 'Contemplation', 'Celestial Wonder', 'Boredom', 'Nostalgia', 'Exploration',\n",
    "    'Wonderment', 'Captivation', 'InnerJourney', 'Mindfulness', 'Reverence', 'Calmness', 'Dismissive',\n",
    "    'Intrigue', 'Melodic', 'Whispers of the Past', 'Charm', 'Immersion', 'Surprise', 'Journey', 'Bittersweet',\n",
    "    'Confusion', 'Isolation', 'Yearning', \"Nature's Beauty\", 'Amazement', 'Apprehensive', \"Ocean's Freedom\",\n",
    "    'Ruins', 'Hypnotic', 'Challenge', 'Indifference', 'Neutral', 'Pensive', 'Mischievous'\n",
    "}\n",
    "\n",
    "# function of mapping\n",
    "def map_sentiment(sentiment):\n",
    "    if sentiment in positive_sentiments:\n",
    "        return 'Positive'\n",
    "    elif sentiment in negative_sentiments:\n",
    "        return 'Negative'\n",
    "    else:\n",
    "        return 'Neutral'\n",
    "\n",
    "df['Sentiment_Category'] = df['Sentiment'].apply(map_sentiment)\n",
    "print(df['Sentiment_Category'].value_counts())\n"
   ]
  },
  {
   "cell_type": "code",
   "execution_count": 11,
   "metadata": {
    "colab": {
     "base_uri": "https://localhost:8080/",
     "height": 209
    },
    "id": "j54mSbx9ZhGj",
    "outputId": "dc77d037-f5a0-4647-991b-120f2fb261b9"
   },
   "outputs": [
    {
     "data": {
      "text/plain": [
       "Platform\n",
       "Instagram    258\n",
       "Twitter      243\n",
       "Facebook     231\n",
       "Name: count, dtype: int64"
      ]
     },
     "execution_count": 11,
     "metadata": {},
     "output_type": "execute_result"
    }
   ],
   "source": [
    "df['Platform'].value_counts()"
   ]
  },
  {
   "cell_type": "code",
   "execution_count": 12,
   "metadata": {
    "colab": {
     "base_uri": "https://localhost:8080/",
     "height": 397
    },
    "id": "OqNWCdHFXnGK",
    "outputId": "43ff773d-75e8-441f-98a7-19a3c81ea172"
   },
   "outputs": [
    {
     "data": {
      "text/plain": [
       "Platform   Sentiment_Category\n",
       "Facebook   Positive              136\n",
       "           Negative               52\n",
       "           Neutral                43\n",
       "Instagram  Positive              145\n",
       "           Negative               57\n",
       "           Neutral                56\n",
       "Twitter    Positive              130\n",
       "           Neutral                57\n",
       "           Negative               56\n",
       "Name: count, dtype: int64"
      ]
     },
     "execution_count": 12,
     "metadata": {},
     "output_type": "execute_result"
    }
   ],
   "source": [
    "df.groupby('Platform')['Sentiment_Category'].value_counts()"
   ]
  },
  {
   "cell_type": "code",
   "execution_count": 13,
   "metadata": {},
   "outputs": [
    {
     "name": "stdout",
     "output_type": "stream",
     "text": [
      "Chi-Square Test Results:\n",
      "Chi2 Statistic: 378.37097263002113\n",
      "P-value: 0.5139527300910279\n",
      "Conclusion: Fail to reject the null hypothesis — Sentiment is independent of Platform.\n",
      "\n",
      "T-Test Results:\n",
      "T Statistic: 1.0737471596703676\n",
      "P-value: 0.3586456770385367\n",
      "Conclusion: Fail to reject the null hypothesis — No difference in retweet averages.\n"
     ]
    }
   ],
   "source": [
    "import pandas as pd\n",
    "from scipy.stats import chi2_contingency, ttest_ind\n",
    "import numpy as np\n",
    "\n",
    "# Load the data\n",
    "df = pd.read_csv(\"data.csv\")\n",
    "\n",
    "# Standardize sentiment values and drop missing values\n",
    "df_clean = df.dropna(subset=['Sentiment', 'Platform', 'Retweets'])\n",
    "df_clean['Sentiment'] = df_clean['Sentiment'].str.capitalize()\n",
    "\n",
    "# -----------------------------\n",
    "# Hypothesis 1: Chi-Square Test\n",
    "# -----------------------------\n",
    "# H0: Sentiment is independent of platform\n",
    "# H1: Sentiment is dependent on platform\n",
    "\n",
    "contingency_table = pd.crosstab(df_clean['Platform'], df_clean['Sentiment'])\n",
    "chi2_stat, chi2_p, chi2_dof, chi2_expected = chi2_contingency(contingency_table)\n",
    "\n",
    "print(\"Chi-Square Test Results:\")\n",
    "print(f\"Chi2 Statistic: {chi2_stat}\")\n",
    "print(f\"P-value: {chi2_p}\")\n",
    "if chi2_p < 0.05:\n",
    "    print(\"Conclusion: Reject the null hypothesis — Sentiment depends on Platform.\")\n",
    "else:\n",
    "    print(\"Conclusion: Fail to reject the null hypothesis — Sentiment is independent of Platform.\")\n",
    "print()\n",
    "\n",
    "# -------------------------\n",
    "# Hypothesis 2: T-Test\n",
    "# -------------------------\n",
    "# H0: Mean retweets (positive) = Mean retweets (negative)\n",
    "# H1: Mean retweets (positive) ≠ Mean retweets (negative)\n",
    "\n",
    "# Filter for sentiment groups\n",
    "positive = df_clean[df_clean['Sentiment'] == 'Positive']['Retweets']\n",
    "negative = df_clean[df_clean['Sentiment'] == 'Negative']['Retweets']\n",
    "\n",
    "# Remove invalid entries\n",
    "positive = positive[np.isfinite(positive)]\n",
    "negative = negative[np.isfinite(negative)]\n",
    "\n",
    "# Perform t-test\n",
    "t_stat, t_p = ttest_ind(positive, negative, equal_var=False)\n",
    "\n",
    "print(\"T-Test Results:\")\n",
    "print(f\"T Statistic: {t_stat}\")\n",
    "print(f\"P-value: {t_p}\")\n",
    "if t_p < 0.05:\n",
    "    print(\"Conclusion: Reject the null hypothesis — Retweet averages differ by sentiment.\")\n",
    "else:\n",
    "    print(\"Conclusion: Fail to reject the null hypothesis — No difference in retweet averages.\")\n"
   ]
  }
 ],
 "metadata": {
  "colab": {
   "provenance": [],
   "toc_visible": true
  },
  "kernelspec": {
   "display_name": "Python [conda env:base]",
   "language": "python",
   "name": "conda-base-py"
  },
  "language_info": {
   "codemirror_mode": {
    "name": "ipython",
    "version": 3
   },
   "file_extension": ".py",
   "mimetype": "text/x-python",
   "name": "python",
   "nbconvert_exporter": "python",
   "pygments_lexer": "ipython3",
   "version": "3.12.7"
  }
 },
 "nbformat": 4,
 "nbformat_minor": 4
}
